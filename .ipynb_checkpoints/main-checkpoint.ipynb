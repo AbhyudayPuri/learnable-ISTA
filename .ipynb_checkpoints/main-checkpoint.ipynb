{
 "cells": [
  {
   "cell_type": "code",
   "execution_count": 1,
   "metadata": {},
   "outputs": [],
   "source": [
    "import matplotlib\n",
    "%matplotlib inline\n",
    "import matplotlib.pyplot as plt\n",
    "from utils.create_patches import create_patches\n",
    "from utils.coordinate_descent import coordinate_descent\n",
    "from utils.shrinkage import shrink\n",
    "import numpy as np"
   ]
  },
  {
   "cell_type": "code",
   "execution_count": null,
   "metadata": {},
   "outputs": [],
   "source": [
    "# Path to where the data is stored \n",
    "path = 'data/train/'\n",
    "\n",
    "# Reading the text file that contains names of all the images\n",
    "fp = open('data/iids_train.txt')\n",
    "lines = fp.read().splitlines() # Create a list containing all lines\n",
    "fp.close()\n",
    "\n",
    "# The number of patches that will be randomly generated from each image\n",
    "num_patches = 10\n",
    "\n",
    "# Generate a mini-batch\n",
    "mini_batch = create_patches(path, lines, num_patches)"
   ]
  },
  {
   "cell_type": "markdown",
   "metadata": {},
   "source": [
    "# Learning the Dictionary"
   ]
  },
  {
   "cell_type": "code",
   "execution_count": null,
   "metadata": {},
   "outputs": [],
   "source": [
    "# Getting the dimensions for our problem\n",
    "n = 3 \n",
    "m = 4 # 4 times over-complete problem set up\n",
    "\n",
    "# Randomly initializing the dictionary\n",
    "W_d = np.random.rand(n, m)\n",
    "\n",
    "# Hyper-parameters\n",
    "num_epochs = 1000"
   ]
  },
  {
   "cell_type": "code",
   "execution_count": null,
   "metadata": {},
   "outputs": [],
   "source": [
    "for i in range(num_epochs):\n",
    "    # Get Z from COD algorithm by making call to that function\n",
    "    \n",
    "    # Compute the loss for the batch\n",
    "    \n",
    "    # Store the loss for the batch\n",
    "    \n",
    "    # Compute the gradient of the loss function\n",
    "    \n",
    "    # Update the parameter W_d\n",
    "    "
   ]
  },
  {
   "cell_type": "code",
   "execution_count": null,
   "metadata": {},
   "outputs": [],
   "source": [
    "Wd = np.random.rand(5,10)\n",
    "Z = np.random.randint(0,2, (10, 1))\n",
    "X = np.matmul(Wd, Z)"
   ]
  },
  {
   "cell_type": "code",
   "execution_count": null,
   "metadata": {},
   "outputs": [],
   "source": [
    "Z_bar = coordinate_descent(X, Wd, 0.01)"
   ]
  },
  {
   "cell_type": "code",
   "execution_count": null,
   "metadata": {},
   "outputs": [],
   "source": []
  },
  {
   "cell_type": "code",
   "execution_count": 2,
   "metadata": {},
   "outputs": [
    {
     "name": "stdout",
     "output_type": "stream",
     "text": [
      "(5, 10)\n",
      "(10, 1)\n",
      "(5, 1)\n"
     ]
    }
   ],
   "source": [
    "Wd = np.random.normal(0, 1, (5,10))\n",
    "Wd = Wd / np.linalg.norm(Wd, axis=0)\n",
    "Z_true = np.array([1,0,0,1,0,0,0,1,0,0]).reshape(10,1)\n",
    "X = np.matmul(Wd, Z_true)\n",
    "alpha = 0.01\n",
    "\n",
    "print(Wd.shape)\n",
    "print(Z_true.shape)\n",
    "print(X.shape)"
   ]
  },
  {
   "cell_type": "code",
   "execution_count": 3,
   "metadata": {},
   "outputs": [
    {
     "name": "stdout",
     "output_type": "stream",
     "text": [
      "[[ 0.98851021]\n",
      " [-0.        ]\n",
      " [-0.        ]\n",
      " [ 0.98951772]\n",
      " [-0.        ]\n",
      " [-0.        ]\n",
      " [-0.00206718]\n",
      " [ 0.99593871]\n",
      " [ 0.        ]\n",
      " [-0.        ]]\n"
     ]
    }
   ],
   "source": [
    "Z = coordinate_descent(X, Wd, alpha)\n",
    "print(Z)"
   ]
  },
  {
   "cell_type": "code",
   "execution_count": null,
   "metadata": {},
   "outputs": [],
   "source": []
  },
  {
   "cell_type": "code",
   "execution_count": null,
   "metadata": {},
   "outputs": [],
   "source": []
  },
  {
   "cell_type": "code",
   "execution_count": null,
   "metadata": {},
   "outputs": [],
   "source": []
  },
  {
   "cell_type": "code",
   "execution_count": null,
   "metadata": {},
   "outputs": [],
   "source": []
  },
  {
   "cell_type": "code",
   "execution_count": null,
   "metadata": {},
   "outputs": [],
   "source": []
  },
  {
   "cell_type": "code",
   "execution_count": null,
   "metadata": {},
   "outputs": [],
   "source": []
  },
  {
   "cell_type": "code",
   "execution_count": null,
   "metadata": {},
   "outputs": [],
   "source": []
  },
  {
   "cell_type": "code",
   "execution_count": null,
   "metadata": {},
   "outputs": [],
   "source": []
  },
  {
   "cell_type": "code",
   "execution_count": null,
   "metadata": {},
   "outputs": [],
   "source": []
  },
  {
   "cell_type": "code",
   "execution_count": null,
   "metadata": {},
   "outputs": [],
   "source": []
  }
 ],
 "metadata": {
  "kernelspec": {
   "display_name": "Python 3",
   "language": "python",
   "name": "python3"
  },
  "language_info": {
   "codemirror_mode": {
    "name": "ipython",
    "version": 3
   },
   "file_extension": ".py",
   "mimetype": "text/x-python",
   "name": "python",
   "nbconvert_exporter": "python",
   "pygments_lexer": "ipython3",
   "version": "3.6.5"
  }
 },
 "nbformat": 4,
 "nbformat_minor": 2
}
