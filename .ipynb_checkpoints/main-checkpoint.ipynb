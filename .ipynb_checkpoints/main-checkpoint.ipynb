{
 "cells": [
  {
   "cell_type": "code",
   "execution_count": 1,
   "metadata": {},
   "outputs": [],
   "source": [
    "import matplotlib\n",
    "%matplotlib inline\n",
    "import matplotlib.pyplot as plt\n",
    "from utils.coordinate_descent import coordinate_descent\n",
    "from utils.shrinkage import shrink\n",
    "from learn_dictionary import learn_dictionary\n",
    "import numpy as np\n",
    "from utils.create_patches import create_patches\n",
    "from utils.prox_l1 import prox_l1"
   ]
  },
  {
   "cell_type": "code",
   "execution_count": null,
   "metadata": {
    "scrolled": true
   },
   "outputs": [],
   "source": [
    "# Path to where the data is stored \n",
    "path = 'data/train/'\n",
    "\n",
    "# Reading the text file that contains names of all the images\n",
    "fp = open('data/iids_train.txt')\n",
    "lines = fp.read().splitlines() # Create a list containing all lines\n",
    "fp.close()\n",
    "\n",
    "# The number of patches that will be randomly generated from each image\n",
    "num_patches = 10\n",
    "alpha = 0.01\n",
    "num_epochs = 1000\n",
    "lr = 0.01\n",
    "beta = 0.9\n",
    "\n",
    "# # Generate a mini-batch\n",
    "# mini_batch = create_patches(path, lines, num_patches)\n",
    "\n",
    "# print(mini_batch.shape)\n",
    "\n",
    "# plt.imshow(mini_batch[:,1].reshape(10,10), cmap = 'gray')\n",
    "\n",
    "Wd, loss = learn_dictionary(num_epochs, path, lines, num_patches, alpha, lr, beta)"
   ]
  },
  {
   "cell_type": "code",
   "execution_count": null,
   "metadata": {},
   "outputs": [],
   "source": [
    "np.savetxt('Wd.txt', Wd)"
   ]
  },
  {
   "cell_type": "markdown",
   "metadata": {},
   "source": [
    "# Learning the Dictionary"
   ]
  },
  {
   "cell_type": "code",
   "execution_count": null,
   "metadata": {},
   "outputs": [],
   "source": [
    "plt.plot(loss)"
   ]
  },
  {
   "cell_type": "code",
   "execution_count": null,
   "metadata": {},
   "outputs": [],
   "source": []
  },
  {
   "cell_type": "code",
   "execution_count": null,
   "metadata": {},
   "outputs": [],
   "source": [
    "# Getting the dimensions for our problem\n",
    "n = 3 \n",
    "m = 4 # 4 times over-complete problem set up\n",
    "\n",
    "# Randomly initializing the dictionary\n",
    "W_d = np.random.rand(n, m)\n",
    "\n",
    "# Hyper-parameters\n",
    "num_epochs = 1000"
   ]
  },
  {
   "cell_type": "code",
   "execution_count": null,
   "metadata": {},
   "outputs": [],
   "source": [
    "for i in range(num_epochs):\n",
    "    # Get Z from COD algorithm by making call to that function\n",
    "    \n",
    "    # Compute the loss for the batch\n",
    "    \n",
    "    # Store the loss for the batch\n",
    "    \n",
    "    # Compute the gradient of the loss function\n",
    "    \n",
    "    # Update the parameter W_d\n",
    "    "
   ]
  },
  {
   "cell_type": "code",
   "execution_count": null,
   "metadata": {},
   "outputs": [],
   "source": [
    "Wd = np.random.normal(0, 1/5, (5,10))\n",
    "Wd = Wd / np.linalg.norm(Wd, axis=0)\n",
    "Z_true = np.transpose(np.array([[1,0,0,1,0,0,0,1,0,0], [1,0,0,0,0,0,0,0,1,1], [1,0,1,1,0,0,0,0,0,0], [0,0,0,1,0,0,0,1,0,0]]))\n",
    "X = np.matmul(Wd, Z_true)\n",
    "alpha = 0.01"
   ]
  },
  {
   "cell_type": "code",
   "execution_count": null,
   "metadata": {},
   "outputs": [],
   "source": [
    "Z = coordinate_descent(X, Wd, alpha)"
   ]
  },
  {
   "cell_type": "code",
   "execution_count": null,
   "metadata": {},
   "outputs": [],
   "source": [
    "index = np.arange(4)\n",
    "k = np.argmax(np.abs(Z), axis=0)"
   ]
  },
  {
   "cell_type": "code",
   "execution_count": null,
   "metadata": {},
   "outputs": [],
   "source": [
    "Z[k, index].shape"
   ]
  },
  {
   "cell_type": "code",
   "execution_count": null,
   "metadata": {},
   "outputs": [],
   "source": [
    "np.choose(k,Z).shape"
   ]
  },
  {
   "cell_type": "code",
   "execution_count": null,
   "metadata": {},
   "outputs": [],
   "source": [
    "# Path to where the data is stored \n",
    "path = 'data/train/'\n",
    "\n",
    "# Reading the text file that contains names of all the images\n",
    "fp = open('data/iids_train.txt')\n",
    "lines = fp.read().splitlines() # Create a list containing all lines\n",
    "fp.close()\n",
    "\n",
    "# The number of patches that will be randomly generated from each image\n",
    "num_patches = 10\n",
    "alpha = 0.01\n",
    "num_epochs = 100\n",
    "lr = 1e-4\n",
    "\n",
    "\n",
    "mini_batch = create_patches(path, lines, num_patches)"
   ]
  },
  {
   "cell_type": "code",
   "execution_count": null,
   "metadata": {},
   "outputs": [],
   "source": [
    "Wd = np.random.normal(0, 1/5, (5,10))\n",
    "Wd = Wd / np.linalg.norm(Wd, axis=0)\n",
    "Z_true = np.transpose(np.array([[1,0,0,1,0,0,0,1,0,0], [1,0,0,0,0,0,0,0,1,1], [1,0,1,1,0,0,0,0,0,0], [0,0,0,1,0,0,0,1,0,0]]))\n",
    "X = np.matmul(Wd, Z_true)\n",
    "alpha = 0.01\n",
    "Z = np.zeros(Z_true.shape)"
   ]
  },
  {
   "cell_type": "code",
   "execution_count": null,
   "metadata": {},
   "outputs": [],
   "source": [
    "for i in range(10000):\n",
    "    Z = prox_l1(X, Z, Wd, alpha)"
   ]
  },
  {
   "cell_type": "code",
   "execution_count": null,
   "metadata": {},
   "outputs": [],
   "source": [
    "print(Z)"
   ]
  },
  {
   "cell_type": "code",
   "execution_count": 2,
   "metadata": {},
   "outputs": [],
   "source": [
    "from sklearn.feature_extraction import image\n",
    "import numpy as np\n",
    "import matplotlib.pyplot as plt\n",
    "from skimage.color import rgb2gray\n",
    "from skimage.io import imread"
   ]
  },
  {
   "cell_type": "code",
   "execution_count": null,
   "metadata": {},
   "outputs": [],
   "source": [
    "im = imread('data/train/100075.jpg')\n",
    "im_gray = rgb2gray(im)\n",
    "plt.imshow(im_gray, cmap = 'gray')"
   ]
  },
  {
   "cell_type": "code",
   "execution_count": null,
   "metadata": {},
   "outputs": [],
   "source": [
    "output = image.extract_patches_2d(im_gray, (10, 10))\n",
    "[num_patches, j, k] = output.shape"
   ]
  },
  {
   "cell_type": "code",
   "execution_count": null,
   "metadata": {},
   "outputs": [],
   "source": [
    "alpha = 0.01\n",
    "# Setting the dimensions for the dictionary\n",
    "n = 100\n",
    "m = 400 \n",
    "\n",
    "# Randomly initilialize the dictionary \n",
    "Wd = np.random.normal(0, 1/n, (n, m))\n",
    "# Normalizing the columns of the dictionary to unit magnitude\n",
    "Wd = Wd / np.linalg.norm(Wd, axis=0)\n",
    "\n",
    "# Creating a list to store the loss for each epoch\n",
    "total_loss = []\n",
    "\n",
    "# Stores the gradient of the loss wrt W\n",
    "Wd_grad = 0"
   ]
  },
  {
   "cell_type": "code",
   "execution_count": null,
   "metadata": {
    "scrolled": false
   },
   "outputs": [],
   "source": [
    "for i in range(num_patches):\n",
    "    # Cumulatively stores the loss over the mini-batch\n",
    "    loss = 0\n",
    "    \n",
    "    X = output[i].reshape(100,1)\n",
    "    \n",
    "    Z = coordinate_descent(X, Wd, alpha)\n",
    "    loss = (0.5 * np.linalg.norm(X - np.matmul(Wd, Z))**2) / X.shape[1]\n",
    "    Wd_grad = np.matmul(np.matmul(Wd, Z) - X, np.transpose(Z)) / X.shape[1]\n",
    "\n",
    "    # Storing the loss\n",
    "    total_loss.append(loss)\n",
    "\n",
    "    # Updating the dictionary Wd\n",
    "    Wd = Wd - (1 / np.linalg.norm(Z, 2)) * Wd_grad\n",
    "    \n",
    "    if i % 100 == 0:\n",
    "        print('epoch: {}'.format(i))\n",
    "        print('loss: {}'.format(total_loss[i]))"
   ]
  },
  {
   "cell_type": "code",
   "execution_count": null,
   "metadata": {},
   "outputs": [],
   "source": [
    "plt.title('Randomly Selected Basis Vectors')\n",
    "plt.subplot(3,3,1)\n",
    "plt.imshow(Wd[:,1].reshape(10,10), cmap = 'gray')\n",
    "plt.subplot(3,3,2)\n",
    "plt.imshow(Wd[:,100].reshape(10,10), cmap = 'gray')\n",
    "plt.subplot(3,3,3)\n",
    "plt.imshow(Wd[:,150].reshape(10,10), cmap = 'gray')\n",
    "plt.subplot(3,3,4)\n",
    "plt.imshow(Wd[:,50].reshape(10,10), cmap = 'gray')\n",
    "plt.subplot(3,3,5)\n",
    "plt.imshow(Wd[:,50].reshape(10,10), cmap = 'gray')\n",
    "plt.subplot(3,3,6)\n",
    "plt.imshow(Wd[:,200].reshape(10,10), cmap = 'gray')\n",
    "plt.subplot(3,3,7)\n",
    "plt.imshow(Wd[:,300].reshape(10,10), cmap = 'gray')\n",
    "plt.subplot(3,3,8)\n",
    "plt.imshow(Wd[:,399].reshape(10,10), cmap = 'gray')\n",
    "plt.subplot(3,3,9)\n",
    "plt.imshow(Wd[:,275].reshape(10,10), cmap = 'gray')\n",
    "\n",
    "plt.savefig('/Users/abhyudaypuri/Downloads/Dict.png')"
   ]
  },
  {
   "cell_type": "code",
   "execution_count": null,
   "metadata": {},
   "outputs": [],
   "source": [
    "plt.imshow(Wd[:,2].reshape(10,10), cmap = 'gray')"
   ]
  },
  {
   "cell_type": "code",
   "execution_count": null,
   "metadata": {},
   "outputs": [],
   "source": [
    "plt.imshow(Wd[:,3].reshape(10,10), cmap = 'gray')"
   ]
  },
  {
   "cell_type": "code",
   "execution_count": null,
   "metadata": {},
   "outputs": [],
   "source": [
    "np.savetxt('Wd.txt', Wd)"
   ]
  },
  {
   "cell_type": "code",
   "execution_count": 3,
   "metadata": {},
   "outputs": [],
   "source": [
    "import numpy as np\n",
    "import matplotlib.pyplot as plt\n",
    "import matplotlib\n",
    "%matplotlib inline\n",
    "from skimage.color import rgb2gray\n",
    "from skimage.io import imread\n",
    "from utils.fast_ista import fast_ista"
   ]
  },
  {
   "cell_type": "code",
   "execution_count": 4,
   "metadata": {},
   "outputs": [],
   "source": [
    "Wd = np.load('Wd.npy')"
   ]
  },
  {
   "cell_type": "code",
   "execution_count": null,
   "metadata": {},
   "outputs": [],
   "source": [
    "X = imread('data/train/100075.jpg')\n",
    "X = rgb2gray(X)\n",
    "X = X[0:320,0:480]\n",
    "plt.imshow(X, cmap='gray')\n",
    "plt.title('Original Image')\n",
    "plt.savefig('/Users/abhyudaypuri/Downloads/Orig.png')\n",
    "print(X.shape)"
   ]
  },
  {
   "cell_type": "code",
   "execution_count": null,
   "metadata": {},
   "outputs": [],
   "source": [
    "X_patched = np.zeros((100, 32*48))\n",
    "\n",
    "for i in range(32):\n",
    "    for j in range(48):\n",
    "        X_patched[:, 48*i + j] = X[10*i: 10*(i+1), 10*j: 10*(j+1)].reshape((100))\n",
    "\n",
    "print(X_patched.shape)"
   ]
  },
  {
   "cell_type": "code",
   "execution_count": null,
   "metadata": {},
   "outputs": [],
   "source": [
    "alpha = 0.01\n",
    "Z = fast_ista(X_patched, Wd, alpha)"
   ]
  },
  {
   "cell_type": "code",
   "execution_count": null,
   "metadata": {},
   "outputs": [],
   "source": [
    "X_reconstructed = np.zeros(X.shape)\n",
    "X_temp = np.matmul(Wd, Z)\n",
    "\n",
    "for i in range(32):\n",
    "    for j in range(48):\n",
    "        X_reconstructed[10*i : 10*(i+1), 10*j : 10*(j+1)] = X_temp[:, 48*i + j].reshape((10,10))"
   ]
  },
  {
   "cell_type": "code",
   "execution_count": null,
   "metadata": {},
   "outputs": [],
   "source": [
    "plt.imshow(X_reconstructed, cmap='gray')\n",
    "plt.title('Reconstruced Image')\n",
    "plt.savefig('/Users/abhyudaypuri/Downloads/Recon.png')"
   ]
  },
  {
   "cell_type": "code",
   "execution_count": null,
   "metadata": {},
   "outputs": [],
   "source": [
    "np.linalg.norm(X - X_reconstructed)"
   ]
  },
  {
   "cell_type": "code",
   "execution_count": 5,
   "metadata": {},
   "outputs": [],
   "source": [
    "# Path to where the data is stored \n",
    "path = 'data/train/'\n",
    "\n",
    "# Reading the text file that contains names of all the images\n",
    "fp = open('data/iids_train.txt')\n",
    "lines = fp.read().splitlines() # Create a list containing all lines\n",
    "fp.close()"
   ]
  },
  {
   "cell_type": "code",
   "execution_count": 6,
   "metadata": {},
   "outputs": [
    {
     "name": "stdout",
     "output_type": "stream",
     "text": [
      "(100, 2000000)\n"
     ]
    }
   ],
   "source": [
    "# The number of patches that will be randomly generated from each image\n",
    "num_patches = 10000\n",
    "\n",
    "X = create_patches(path, lines, num_patches)\n",
    "print(X.shape)"
   ]
  },
  {
   "cell_type": "code",
   "execution_count": 9,
   "metadata": {},
   "outputs": [
    {
     "ename": "KeyboardInterrupt",
     "evalue": "",
     "output_type": "error",
     "traceback": [
      "\u001b[0;31m---------------------------------------------------------------------------\u001b[0m",
      "\u001b[0;31mKeyboardInterrupt\u001b[0m                         Traceback (most recent call last)",
      "\u001b[0;32m<ipython-input-9-1e87e2dc9475>\u001b[0m in \u001b[0;36m<module>\u001b[0;34m\u001b[0m\n\u001b[1;32m      1\u001b[0m \u001b[0malpha\u001b[0m \u001b[0;34m=\u001b[0m \u001b[0;36m0.01\u001b[0m\u001b[0;34m\u001b[0m\u001b[0m\n\u001b[0;32m----> 2\u001b[0;31m \u001b[0mZ\u001b[0m \u001b[0;34m=\u001b[0m \u001b[0mfast_ista\u001b[0m\u001b[0;34m(\u001b[0m\u001b[0mX\u001b[0m\u001b[0;34m,\u001b[0m \u001b[0mWd\u001b[0m\u001b[0;34m,\u001b[0m \u001b[0malpha\u001b[0m\u001b[0;34m)\u001b[0m\u001b[0;34m\u001b[0m\u001b[0m\n\u001b[0m",
      "\u001b[0;32m~/learnable-ISTA/utils/fast_ista.py\u001b[0m in \u001b[0;36mfast_ista\u001b[0;34m(X, A, alpha)\u001b[0m\n\u001b[1;32m     18\u001b[0m         \u001b[0;31m# FISTA\u001b[0m\u001b[0;34m\u001b[0m\u001b[0;34m\u001b[0m\u001b[0m\n\u001b[1;32m     19\u001b[0m         \u001b[0;32mfor\u001b[0m \u001b[0mi\u001b[0m \u001b[0;32min\u001b[0m \u001b[0mrange\u001b[0m\u001b[0;34m(\u001b[0m\u001b[0mmax_iter\u001b[0m\u001b[0;34m)\u001b[0m\u001b[0;34m:\u001b[0m\u001b[0;34m\u001b[0m\u001b[0m\n\u001b[0;32m---> 20\u001b[0;31m                 \u001b[0mZ_aux\u001b[0m \u001b[0;34m=\u001b[0m \u001b[0mZ\u001b[0m \u001b[0;34m+\u001b[0m \u001b[0;34m(\u001b[0m\u001b[0mi\u001b[0m \u001b[0;34m/\u001b[0m \u001b[0;34m(\u001b[0m\u001b[0mi\u001b[0m \u001b[0;34m+\u001b[0m \u001b[0;36m3\u001b[0m\u001b[0;34m)\u001b[0m\u001b[0;34m)\u001b[0m \u001b[0;34m*\u001b[0m \u001b[0;34m(\u001b[0m\u001b[0mZ\u001b[0m \u001b[0;34m-\u001b[0m \u001b[0mZ_prev\u001b[0m\u001b[0;34m)\u001b[0m\u001b[0;34m\u001b[0m\u001b[0m\n\u001b[0m\u001b[1;32m     21\u001b[0m                 \u001b[0mZ_prev\u001b[0m \u001b[0;34m=\u001b[0m \u001b[0mZ\u001b[0m\u001b[0;34m\u001b[0m\u001b[0m\n\u001b[1;32m     22\u001b[0m \u001b[0;34m\u001b[0m\u001b[0m\n",
      "\u001b[0;31mKeyboardInterrupt\u001b[0m: "
     ]
    }
   ],
   "source": [
    "alpha = 0.01\n",
    "Z = fast_ista(X, Wd, alpha)"
   ]
  },
  {
   "cell_type": "code",
   "execution_count": null,
   "metadata": {},
   "outputs": [],
   "source": []
  }
 ],
 "metadata": {
  "kernelspec": {
   "display_name": "Python 3",
   "language": "python",
   "name": "python3"
  },
  "language_info": {
   "codemirror_mode": {
    "name": "ipython",
    "version": 3
   },
   "file_extension": ".py",
   "mimetype": "text/x-python",
   "name": "python",
   "nbconvert_exporter": "python",
   "pygments_lexer": "ipython3",
   "version": "3.6.5"
  }
 },
 "nbformat": 4,
 "nbformat_minor": 2
}
