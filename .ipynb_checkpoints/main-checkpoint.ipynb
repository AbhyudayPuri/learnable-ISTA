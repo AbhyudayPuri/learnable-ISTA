{
 "cells": [
  {
   "cell_type": "code",
   "execution_count": 1,
   "metadata": {},
   "outputs": [],
   "source": [
    "import matplotlib\n",
    "%matplotlib inline\n",
    "import matplotlib.pyplot as plt\n",
    "from utils.coordinate_descent import coordinate_descent\n",
    "from utils.shrinkage import shrink\n",
    "from learn_dictionary import learn_dictionary\n",
    "import numpy as np"
   ]
  },
  {
   "cell_type": "code",
   "execution_count": 2,
   "metadata": {
    "scrolled": false
   },
   "outputs": [
    {
     "name": "stdout",
     "output_type": "stream",
     "text": [
      "epoch: 0\n",
      "loss: 110025.7226509195\n",
      "epoch: 1\n",
      "loss: 79430.98480929251\n",
      "epoch: 2\n",
      "loss: 71024.35316014658\n",
      "epoch: 3\n",
      "loss: 49486.548194423005\n",
      "epoch: 4\n",
      "loss: 66155.14345063601\n",
      "epoch: 5\n",
      "loss: 57333.923930468976\n",
      "epoch: 6\n",
      "loss: 47036.249763583706\n",
      "epoch: 7\n",
      "loss: 37751.29629744598\n",
      "epoch: 8\n",
      "loss: 91481.25465545095\n",
      "epoch: 9\n",
      "loss: 82012.77158244736\n",
      "epoch: 10\n",
      "loss: 60713.86560287938\n",
      "epoch: 11\n",
      "loss: 63447.28533685057\n",
      "epoch: 12\n",
      "loss: 51375.3905997049\n",
      "epoch: 13\n",
      "loss: 41218.7857354431\n",
      "epoch: 14\n",
      "loss: 65856.72578286045\n",
      "epoch: 15\n",
      "loss: 76213.361317297\n",
      "epoch: 16\n",
      "loss: 53006.31075518117\n",
      "epoch: 17\n",
      "loss: 67227.94583975144\n",
      "epoch: 18\n",
      "loss: 57438.42366084628\n",
      "epoch: 19\n",
      "loss: 46005.028697418405\n",
      "epoch: 20\n",
      "loss: 34160.37112588811\n",
      "epoch: 21\n",
      "loss: 80051.154822112\n",
      "epoch: 22\n",
      "loss: 54368.43230707191\n",
      "epoch: 23\n",
      "loss: 95587.76988377587\n",
      "epoch: 24\n",
      "loss: 63413.48050300798\n",
      "epoch: 25\n",
      "loss: 46895.92355722004\n",
      "epoch: 26\n",
      "loss: 52152.09502919495\n",
      "epoch: 27\n",
      "loss: 55881.13885507698\n",
      "epoch: 28\n",
      "loss: 45190.204499281295\n",
      "epoch: 29\n",
      "loss: 65539.25989385931\n",
      "epoch: 30\n",
      "loss: 67459.24632469658\n",
      "epoch: 31\n",
      "loss: 56367.62118341252\n",
      "epoch: 32\n",
      "loss: 45160.423737071724\n",
      "epoch: 33\n",
      "loss: 48430.242587312736\n",
      "epoch: 34\n",
      "loss: 45965.735924582164\n",
      "epoch: 35\n",
      "loss: 48502.238680020615\n"
     ]
    },
    {
     "ename": "KeyboardInterrupt",
     "evalue": "",
     "output_type": "error",
     "traceback": [
      "\u001b[0;31m---------------------------------------------------------------------------\u001b[0m",
      "\u001b[0;31mKeyboardInterrupt\u001b[0m                         Traceback (most recent call last)",
      "\u001b[0;32m<ipython-input-2-9a13a5ede335>\u001b[0m in \u001b[0;36m<module>\u001b[0;34m\u001b[0m\n\u001b[1;32m     20\u001b[0m \u001b[0;31m# plt.imshow(mini_batch[:,1].reshape(10,10), cmap = 'gray')\u001b[0m\u001b[0;34m\u001b[0m\u001b[0;34m\u001b[0m\u001b[0m\n\u001b[1;32m     21\u001b[0m \u001b[0;34m\u001b[0m\u001b[0m\n\u001b[0;32m---> 22\u001b[0;31m \u001b[0mWd\u001b[0m\u001b[0;34m,\u001b[0m \u001b[0mloss\u001b[0m \u001b[0;34m=\u001b[0m \u001b[0mlearn_dictionary\u001b[0m\u001b[0;34m(\u001b[0m\u001b[0mnum_epochs\u001b[0m\u001b[0;34m,\u001b[0m \u001b[0mpath\u001b[0m\u001b[0;34m,\u001b[0m \u001b[0mlines\u001b[0m\u001b[0;34m,\u001b[0m \u001b[0mnum_patches\u001b[0m\u001b[0;34m,\u001b[0m \u001b[0malpha\u001b[0m\u001b[0;34m,\u001b[0m \u001b[0mlr\u001b[0m\u001b[0;34m)\u001b[0m\u001b[0;34m\u001b[0m\u001b[0m\n\u001b[0m",
      "\u001b[0;32m~/learnable-ISTA/learn_dictionary.py\u001b[0m in \u001b[0;36mlearn_dictionary\u001b[0;34m(num_epochs, path, lines, num_patches, alpha, lr)\u001b[0m\n\u001b[1;32m     31\u001b[0m                 \u001b[0;31m# print('End')\u001b[0m\u001b[0;34m\u001b[0m\u001b[0;34m\u001b[0m\u001b[0m\n\u001b[1;32m     32\u001b[0m                 \u001b[0mloss\u001b[0m \u001b[0;34m=\u001b[0m \u001b[0;36m0.5\u001b[0m \u001b[0;34m*\u001b[0m \u001b[0mnp\u001b[0m\u001b[0;34m.\u001b[0m\u001b[0mlinalg\u001b[0m\u001b[0;34m.\u001b[0m\u001b[0mnorm\u001b[0m\u001b[0;34m(\u001b[0m\u001b[0mX\u001b[0m \u001b[0;34m-\u001b[0m \u001b[0mnp\u001b[0m\u001b[0;34m.\u001b[0m\u001b[0mmatmul\u001b[0m\u001b[0;34m(\u001b[0m\u001b[0mWd\u001b[0m\u001b[0;34m,\u001b[0m \u001b[0mZ\u001b[0m\u001b[0;34m)\u001b[0m\u001b[0;34m)\u001b[0m\u001b[0;34m**\u001b[0m\u001b[0;36m2\u001b[0m\u001b[0;34m\u001b[0m\u001b[0m\n\u001b[0;32m---> 33\u001b[0;31m                 \u001b[0mWd_grad\u001b[0m \u001b[0;34m=\u001b[0m \u001b[0mnp\u001b[0m\u001b[0;34m.\u001b[0m\u001b[0mmatmul\u001b[0m\u001b[0;34m(\u001b[0m\u001b[0mnp\u001b[0m\u001b[0;34m.\u001b[0m\u001b[0mmatmul\u001b[0m\u001b[0;34m(\u001b[0m\u001b[0mWd\u001b[0m\u001b[0;34m,\u001b[0m \u001b[0mZ\u001b[0m\u001b[0;34m)\u001b[0m \u001b[0;34m-\u001b[0m \u001b[0mX\u001b[0m\u001b[0;34m,\u001b[0m \u001b[0mnp\u001b[0m\u001b[0;34m.\u001b[0m\u001b[0mtranspose\u001b[0m\u001b[0;34m(\u001b[0m\u001b[0mZ\u001b[0m\u001b[0;34m)\u001b[0m\u001b[0;34m)\u001b[0m\u001b[0;34m\u001b[0m\u001b[0m\n\u001b[0m\u001b[1;32m     34\u001b[0m \u001b[0;34m\u001b[0m\u001b[0m\n\u001b[1;32m     35\u001b[0m                 \u001b[0;31m# # Iterating over the mini-batch\u001b[0m\u001b[0;34m\u001b[0m\u001b[0;34m\u001b[0m\u001b[0m\n",
      "\u001b[0;31mKeyboardInterrupt\u001b[0m: "
     ]
    }
   ],
   "source": [
    "# Path to where the data is stored \n",
    "path = 'data/train/'\n",
    "\n",
    "# Reading the text file that contains names of all the images\n",
    "fp = open('data/iids_train.txt')\n",
    "lines = fp.read().splitlines() # Create a list containing all lines\n",
    "fp.close()\n",
    "\n",
    "# The number of patches that will be randomly generated from each image\n",
    "num_patches = 10\n",
    "alpha = 0.01\n",
    "num_epochs = 1000\n",
    "lr = 1e-6\n",
    "\n",
    "# # Generate a mini-batch\n",
    "# mini_batch = create_patches(path, lines, num_patches)\n",
    "\n",
    "# print(mini_batch.shape)\n",
    "\n",
    "# plt.imshow(mini_batch[:,1].reshape(10,10), cmap = 'gray')\n",
    "\n",
    "Wd, loss = learn_dictionary(num_epochs, path, lines, num_patches, alpha, lr)"
   ]
  },
  {
   "cell_type": "markdown",
   "metadata": {},
   "source": [
    "# Learning the Dictionary"
   ]
  },
  {
   "cell_type": "code",
   "execution_count": null,
   "metadata": {},
   "outputs": [],
   "source": [
    "# Getting the dimensions for our problem\n",
    "n = 3 \n",
    "m = 4 # 4 times over-complete problem set up\n",
    "\n",
    "# Randomly initializing the dictionary\n",
    "W_d = np.random.rand(n, m)\n",
    "\n",
    "# Hyper-parameters\n",
    "num_epochs = 1000"
   ]
  },
  {
   "cell_type": "code",
   "execution_count": null,
   "metadata": {},
   "outputs": [],
   "source": [
    "for i in range(num_epochs):\n",
    "    # Get Z from COD algorithm by making call to that function\n",
    "    \n",
    "    # Compute the loss for the batch\n",
    "    \n",
    "    # Store the loss for the batch\n",
    "    \n",
    "    # Compute the gradient of the loss function\n",
    "    \n",
    "    # Update the parameter W_d\n",
    "    "
   ]
  },
  {
   "cell_type": "code",
   "execution_count": null,
   "metadata": {},
   "outputs": [],
   "source": [
    "Wd = np.random.normal(0, 1/5, (5,10))\n",
    "Wd = Wd / np.linalg.norm(Wd, axis=0)\n",
    "Z_true = np.transpose(np.array([[1,0,0,1,0,0,0,1,0,0], [1,0,0,0,0,0,0,0,1,1], [1,0,1,1,0,0,0,0,0,0], [0,0,0,1,0,0,0,1,0,0]]))\n",
    "X = np.matmul(Wd, Z_true)\n",
    "alpha = 0.01"
   ]
  },
  {
   "cell_type": "code",
   "execution_count": null,
   "metadata": {},
   "outputs": [],
   "source": [
    "Z = coordinate_descent(X, Wd, alpha)"
   ]
  },
  {
   "cell_type": "code",
   "execution_count": null,
   "metadata": {},
   "outputs": [],
   "source": [
    "index = np.arange(4)\n",
    "k = np.argmax(np.abs(Z), axis=0)"
   ]
  },
  {
   "cell_type": "code",
   "execution_count": null,
   "metadata": {},
   "outputs": [],
   "source": [
    "Z[k, index].shape"
   ]
  },
  {
   "cell_type": "code",
   "execution_count": null,
   "metadata": {},
   "outputs": [],
   "source": [
    "np.choose(k,Z).shape"
   ]
  },
  {
   "cell_type": "code",
   "execution_count": null,
   "metadata": {},
   "outputs": [],
   "source": []
  },
  {
   "cell_type": "code",
   "execution_count": null,
   "metadata": {},
   "outputs": [],
   "source": []
  },
  {
   "cell_type": "code",
   "execution_count": null,
   "metadata": {},
   "outputs": [],
   "source": []
  },
  {
   "cell_type": "code",
   "execution_count": null,
   "metadata": {},
   "outputs": [],
   "source": []
  },
  {
   "cell_type": "code",
   "execution_count": null,
   "metadata": {},
   "outputs": [],
   "source": []
  },
  {
   "cell_type": "code",
   "execution_count": null,
   "metadata": {},
   "outputs": [],
   "source": []
  },
  {
   "cell_type": "code",
   "execution_count": null,
   "metadata": {},
   "outputs": [],
   "source": []
  },
  {
   "cell_type": "code",
   "execution_count": null,
   "metadata": {},
   "outputs": [],
   "source": []
  },
  {
   "cell_type": "code",
   "execution_count": null,
   "metadata": {},
   "outputs": [],
   "source": []
  },
  {
   "cell_type": "code",
   "execution_count": null,
   "metadata": {},
   "outputs": [],
   "source": []
  },
  {
   "cell_type": "code",
   "execution_count": null,
   "metadata": {},
   "outputs": [],
   "source": []
  },
  {
   "cell_type": "code",
   "execution_count": null,
   "metadata": {},
   "outputs": [],
   "source": []
  },
  {
   "cell_type": "code",
   "execution_count": null,
   "metadata": {},
   "outputs": [],
   "source": []
  },
  {
   "cell_type": "code",
   "execution_count": null,
   "metadata": {},
   "outputs": [],
   "source": []
  }
 ],
 "metadata": {
  "kernelspec": {
   "display_name": "Python 3",
   "language": "python",
   "name": "python3"
  },
  "language_info": {
   "codemirror_mode": {
    "name": "ipython",
    "version": 3
   },
   "file_extension": ".py",
   "mimetype": "text/x-python",
   "name": "python",
   "nbconvert_exporter": "python",
   "pygments_lexer": "ipython3",
   "version": "3.6.5"
  }
 },
 "nbformat": 4,
 "nbformat_minor": 2
}
