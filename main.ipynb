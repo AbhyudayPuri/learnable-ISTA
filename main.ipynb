{
 "cells": [
  {
   "cell_type": "code",
   "execution_count": 1,
   "metadata": {},
   "outputs": [],
   "source": [
    "import matplotlib\n",
    "%matplotlib inline\n",
    "import matplotlib.pyplot as plt\n",
    "from utils.create_patches import create_patches\n",
    "from utils.coordinate_descent import coordinate_descent\n",
    "from utils.shrinkage import shrink\n",
    "import numpy as np"
   ]
  },
  {
   "cell_type": "code",
   "execution_count": null,
   "metadata": {},
   "outputs": [],
   "source": [
    "# Path to where the data is stored \n",
    "path = 'data/train/'\n",
    "\n",
    "# Reading the text file that contains names of all the images\n",
    "fp = open('data/iids_train.txt')\n",
    "lines = fp.read().splitlines() # Create a list containing all lines\n",
    "fp.close()\n",
    "\n",
    "# The number of patches that will be randomly generated from each image\n",
    "num_patches = 10\n",
    "\n",
    "# Generate a mini-batch\n",
    "mini_batch = create_patches(path, lines, num_patches)"
   ]
  },
  {
   "cell_type": "markdown",
   "metadata": {},
   "source": [
    "# Learning the Dictionary"
   ]
  },
  {
   "cell_type": "code",
   "execution_count": null,
   "metadata": {},
   "outputs": [],
   "source": [
    "# Getting the dimensions for our problem\n",
    "n = 3 \n",
    "m = 4 # 4 times over-complete problem set up\n",
    "\n",
    "# Randomly initializing the dictionary\n",
    "W_d = np.random.rand(n, m)\n",
    "\n",
    "# Hyper-parameters\n",
    "num_epochs = 1000"
   ]
  },
  {
   "cell_type": "code",
   "execution_count": null,
   "metadata": {},
   "outputs": [],
   "source": [
    "for i in range(num_epochs):\n",
    "    # Get Z from COD algorithm by making call to that function\n",
    "    \n",
    "    # Compute the loss for the batch\n",
    "    \n",
    "    # Store the loss for the batch\n",
    "    \n",
    "    # Compute the gradient of the loss function\n",
    "    \n",
    "    # Update the parameter W_d\n",
    "    "
   ]
  },
  {
   "cell_type": "code",
   "execution_count": 2,
   "metadata": {},
   "outputs": [],
   "source": [
    "Wd = np.random.normal(0, 1, (5,10))\n",
    "Wd = Wd / np.linalg.norm(Wd, axis=0)\n",
    "Z_true = np.array([1,0,0,1,0,0,0,1,0,0]).reshape(10,1)\n",
    "X = np.matmul(Wd, Z_true)\n",
    "alpha = 0.01"
   ]
  },
  {
   "cell_type": "code",
   "execution_count": 3,
   "metadata": {},
   "outputs": [
    {
     "name": "stdout",
     "output_type": "stream",
     "text": [
      "The algorithm converges in 562 iterations\n"
     ]
    }
   ],
   "source": [
    "Z_bar = coordinate_descent(X, Wd, 0.01)"
   ]
  },
  {
   "cell_type": "code",
   "execution_count": 4,
   "metadata": {},
   "outputs": [
    {
     "name": "stdout",
     "output_type": "stream",
     "text": [
      "[[ 0.        ]\n",
      " [-0.        ]\n",
      " [-0.        ]\n",
      " [ 0.46942941]\n",
      " [-0.        ]\n",
      " [-0.        ]\n",
      " [ 0.13863444]\n",
      " [ 1.74744766]\n",
      " [ 0.28774361]\n",
      " [-0.00448776]]\n"
     ]
    }
   ],
   "source": [
    "print(Z_bar)"
   ]
  },
  {
   "cell_type": "code",
   "execution_count": 5,
   "metadata": {},
   "outputs": [
    {
     "data": {
      "text/plain": [
       "array([[-0.33577161],\n",
       "       [ 0.30949118],\n",
       "       [-1.55227579],\n",
       "       [ 1.35871418],\n",
       "       [ 0.7487995 ]])"
      ]
     },
     "execution_count": 5,
     "metadata": {},
     "output_type": "execute_result"
    }
   ],
   "source": [
    "np.matmul(Wd, Z_bar)"
   ]
  },
  {
   "cell_type": "code",
   "execution_count": 6,
   "metadata": {},
   "outputs": [
    {
     "name": "stdout",
     "output_type": "stream",
     "text": [
      "[[-0.33373865]\n",
      " [ 0.30527127]\n",
      " [-1.56021861]\n",
      " [ 1.37429641]\n",
      " [ 0.74205885]]\n"
     ]
    }
   ],
   "source": [
    "print(X)"
   ]
  },
  {
   "cell_type": "code",
   "execution_count": null,
   "metadata": {},
   "outputs": [],
   "source": []
  },
  {
   "cell_type": "code",
   "execution_count": null,
   "metadata": {},
   "outputs": [],
   "source": []
  },
  {
   "cell_type": "code",
   "execution_count": null,
   "metadata": {},
   "outputs": [],
   "source": []
  },
  {
   "cell_type": "code",
   "execution_count": null,
   "metadata": {},
   "outputs": [],
   "source": []
  },
  {
   "cell_type": "code",
   "execution_count": null,
   "metadata": {},
   "outputs": [],
   "source": []
  },
  {
   "cell_type": "code",
   "execution_count": null,
   "metadata": {},
   "outputs": [],
   "source": []
  },
  {
   "cell_type": "code",
   "execution_count": null,
   "metadata": {},
   "outputs": [],
   "source": []
  },
  {
   "cell_type": "code",
   "execution_count": null,
   "metadata": {},
   "outputs": [],
   "source": []
  },
  {
   "cell_type": "code",
   "execution_count": null,
   "metadata": {},
   "outputs": [],
   "source": []
  },
  {
   "cell_type": "code",
   "execution_count": null,
   "metadata": {},
   "outputs": [],
   "source": []
  }
 ],
 "metadata": {
  "kernelspec": {
   "display_name": "Python 3",
   "language": "python",
   "name": "python3"
  },
  "language_info": {
   "codemirror_mode": {
    "name": "ipython",
    "version": 3
   },
   "file_extension": ".py",
   "mimetype": "text/x-python",
   "name": "python",
   "nbconvert_exporter": "python",
   "pygments_lexer": "ipython3",
   "version": "3.6.5"
  }
 },
 "nbformat": 4,
 "nbformat_minor": 2
}
